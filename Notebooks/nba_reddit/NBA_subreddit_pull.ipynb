{
 "cells": [
  {
   "cell_type": "code",
   "execution_count": 1,
   "metadata": {},
   "outputs": [
    {
     "name": "stdout",
     "output_type": "stream",
     "text": [
      "BEGINNING\n",
      "OPENING REDDIT\n",
      "WAITING TO LOAD INTO SOUP\n",
      "WAITING TO LOAD VALUES INTO LIST\n"
     ]
    }
   ],
   "source": [
    "from urllib.request import urlopen as uReq\n",
    "from bs4 import BeautifulSoup as soup\n",
    "from bs4 import NavigableString\n",
    "import sqlite3\n",
    "from time import sleep\n",
    "\n",
    "#sql db section\n",
    "conn = sqlite3.connect('reddit_db.sqlite')\n",
    "cur = conn.cursor()\n",
    "\n",
    "cur.execute('''DROP TABLE IF EXISTS NBA_subs''')\n",
    "\n",
    "cur.execute('''\n",
    "CREATE TABLE IF NOT EXISTS NBA_subs(\n",
    "\tid INTEGER NOT NULL PRIMARY KEY AUTOINCREMENT UNIQUE,\n",
    "\tsub_name TEXT UNIQUE,\n",
    "\tteam_name TEXT UNIQUE\n",
    ")''')\n",
    "\n",
    "\n",
    "\n",
    "print('BEGINNING')\n",
    "sleep(10)\n",
    "my_url = 'https://www.reddit.com/r/nba/'\n",
    "uClient = uReq(my_url)\n",
    "sleep(10)\n",
    "page_html = uClient.read()\n",
    "sleep(10)\n",
    "uClient.close()\n",
    "print('OPENING REDDIT')\n",
    "sleep(10)\n",
    "print('WAITING TO LOAD INTO SOUP')\n",
    "sleep(10)\n",
    "page_soup = soup(page_html, 'html.parser')\n",
    "print('WAITING TO LOAD VALUES INTO LIST')\n",
    "sleep(10)\n",
    "\n",
    "#pulls list of subreddit links from top of page\n",
    "subreddit_soup = page_soup.findAll('div',{'class':'md'})[0].findAll('ul')[1]\n",
    "\n",
    "\n",
    "#loops through subreddit links and pulls values\n",
    "for child in subreddit_soup:\n",
    "\tif isinstance(child, NavigableString): continue\n",
    "\tsub_name = child.a['href']\n",
    "\tsub_name = sub_name[3:]\n",
    "\tteam_name = child.get_text()\n",
    "\t\n",
    "\tcur.execute('''INSERT INTO NBA_subs (sub_name,team_name) VALUES (?,?)''',(sub_name,team_name))\n",
    "\t\n",
    "conn.commit()"
   ]
  }
 ],
 "metadata": {
  "kernelspec": {
   "display_name": "Python 3",
   "language": "python",
   "name": "python3"
  },
  "language_info": {
   "codemirror_mode": {
    "name": "ipython",
    "version": 3
   },
   "file_extension": ".py",
   "mimetype": "text/x-python",
   "name": "python",
   "nbconvert_exporter": "python",
   "pygments_lexer": "ipython3",
   "version": "3.6.1"
  }
 },
 "nbformat": 4,
 "nbformat_minor": 2
}
